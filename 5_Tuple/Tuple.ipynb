{
  "cells": [
    {
      "cell_type": "markdown",
      "metadata": {
        "id": "NobW49kYhA0F"
      },
      "source": [
        "# **Tuple**\n",
        "Tuples are used to store multiple items in a single variable.\n",
        "A tuple is a collection which is ordered and unchangeable.\n",
        "\n",
        "Tuples are written with round brackets."
      ]
    },
    {
      "cell_type": "markdown",
      "metadata": {
        "id": "3q-oCS_dhKKV"
      },
      "source": [
        "## **Create a Tuple:**"
      ]
    },
    {
      "cell_type": "code",
      "execution_count": null,
      "metadata": {
        "colab": {
          "base_uri": "https://localhost:8080/"
        },
        "id": "OJWX-ZebhAKN",
        "outputId": "96c2bb71-2983-45cd-b899-1e183764f08c"
      },
      "outputs": [
        {
          "name": "stdout",
          "output_type": "stream",
          "text": [
            "('apple', 'banana', 'cherry')\n"
          ]
        }
      ],
      "source": [
        "thistuple = (\"apple\", \"banana\", \"cherry\")\n",
        "print(thistuple)"
      ]
    },
    {
      "cell_type": "markdown",
      "metadata": {
        "id": "JcoWDmT8hQ09"
      },
      "source": [
        "## **Tuple Items**\n",
        "Tuple items are ordered, unchangeable, and allow duplicate values.\n",
        "\n",
        "Tuple items are indexed, the first item has index [0], the second item has index [1] etc.\n",
        "\n",
        "**Allow Duplicates**\n",
        "Since tuples are indexed, they can have items with the same value:"
      ]
    },
    {
      "cell_type": "code",
      "execution_count": null,
      "metadata": {
        "colab": {
          "base_uri": "https://localhost:8080/"
        },
        "id": "oBDhKFXXhkA9",
        "outputId": "5afac5e2-bb36-47fe-8f80-089f12cf8d41"
      },
      "outputs": [
        {
          "name": "stdout",
          "output_type": "stream",
          "text": [
            "('apple', 'banana', 'cherry', 'apple', 'cherry')\n"
          ]
        }
      ],
      "source": [
        "# Tuples allow duplicate values:\n",
        "thistuple = (\"apple\", \"banana\", \"cherry\", \"apple\", \"cherry\")\n",
        "print(thistuple)"
      ]
    },
    {
      "cell_type": "markdown",
      "metadata": {
        "id": "x5TDxrfWj5F9"
      },
      "source": [
        "## **Create Tuple With One Item**\n",
        "To create a tuple with only one item, you have to add a comma after the item, otherwise Python will not recognize it as a tuple."
      ]
    },
    {
      "cell_type": "code",
      "execution_count": null,
      "metadata": {
        "colab": {
          "base_uri": "https://localhost:8080/"
        },
        "id": "3ojGNAdakIw1",
        "outputId": "7b85a140-141b-4e61-f593-72c26b34a5dd"
      },
      "outputs": [
        {
          "name": "stdout",
          "output_type": "stream",
          "text": [
            "<class 'tuple'>\n",
            "<class 'str'>\n"
          ]
        }
      ],
      "source": [
        "# One item tuple, remember the comma:\n",
        "thistuple = (\"apple\",)\n",
        "print(type(thistuple))\n",
        "\n",
        "#NOT a tuple\n",
        "thistuple = (\"apple\")\n",
        "print(type(thistuple))"
      ]
    },
    {
      "cell_type": "markdown",
      "metadata": {
        "id": "N0GHj27ekScG"
      },
      "source": [
        "## **Tuple Items - Data Types**\n",
        "Tuple items can be of any data type:"
      ]
    },
    {
      "cell_type": "code",
      "execution_count": null,
      "metadata": {
        "id": "QBKhwh6UkYLm"
      },
      "outputs": [],
      "source": [
        "# String, int and boolean data types:\n",
        "tuple1 = (\"apple\", \"banana\", \"cherry\")\n",
        "tuple2 = (1, 5, 7, 9, 3)\n",
        "tuple3 = (True, False, False)"
      ]
    },
    {
      "cell_type": "code",
      "execution_count": null,
      "metadata": {
        "id": "rzCsNSmvkcn2"
      },
      "outputs": [],
      "source": [
        "# A tuple can contain different data types:\n",
        "# A tuple with strings, integers and boolean values:\n",
        "tuple1 = (\"abc\", 34, True, 40, \"male\")"
      ]
    }
  ],
  "metadata": {
    "colab": {
      "provenance": []
    },
    "kernelspec": {
      "display_name": "Python 3",
      "name": "python3"
    },
    "language_info": {
      "name": "python"
    }
  },
  "nbformat": 4,
  "nbformat_minor": 0
}
