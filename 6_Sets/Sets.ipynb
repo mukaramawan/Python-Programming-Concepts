{
  "cells": [
    {
      "cell_type": "markdown",
      "metadata": {
        "id": "LCP_PjRRk7DO"
      },
      "source": [
        "# **Python Sets**\n",
        "Sets are used to store multiple items in a single variable.\n",
        "A set is a collection which is unordered, unchangeable*, and unindexed.\n",
        "**Note:** Set items are unchangeable, but you can remove items and add new items."
      ]
    },
    {
      "cell_type": "markdown",
      "metadata": {
        "id": "Kj8TgRdYlh1F"
      },
      "source": [
        "## **Unordered**\n",
        "Unordered means that the items in a set do not have a defined order.\n",
        "\n",
        "Set items can appear in a different order every time you use them, and cannot be referred to by index or key"
      ]
    },
    {
      "cell_type": "markdown",
      "metadata": {
        "id": "LdaNJ4xRlNkF"
      },
      "source": [
        "# **Create a Set:**\n",
        "Sets are written with curly brackets."
      ]
    },
    {
      "cell_type": "code",
      "execution_count": null,
      "metadata": {
        "colab": {
          "base_uri": "https://localhost:8080/"
        },
        "id": "alaTV6OulZql",
        "outputId": "5629e725-53a6-43ad-937e-c6b31669681a"
      },
      "outputs": [
        {
          "name": "stdout",
          "output_type": "stream",
          "text": [
            "{'banana', 'apple', 'cherry'}\n"
          ]
        }
      ],
      "source": [
        "thisset = {\"apple\", \"banana\", \"cherry\"}\n",
        "print(thisset)"
      ]
    },
    {
      "cell_type": "markdown",
      "metadata": {
        "id": "NgNcueA4lyF2"
      },
      "source": [
        "## **Duplicates Not Allowed**\n",
        "Sets cannot have two items with the same value."
      ]
    },
    {
      "cell_type": "code",
      "execution_count": null,
      "metadata": {
        "colab": {
          "base_uri": "https://localhost:8080/"
        },
        "id": "h4duodYtl2X2",
        "outputId": "8ac944cd-e71b-4fc6-d38d-c885623f6ab6"
      },
      "outputs": [
        {
          "name": "stdout",
          "output_type": "stream",
          "text": [
            "{'banana', 'apple', 'cherry'}\n"
          ]
        }
      ],
      "source": [
        "# Duplicate values will be ignored:\n",
        "thisset = {\"apple\", \"banana\", \"cherry\", \"apple\"}\n",
        "\n",
        "print(thisset)"
      ]
    },
    {
      "cell_type": "markdown",
      "metadata": {
        "id": "FujeXlvWnafW"
      },
      "source": [
        "## **Get the Length of a Set**\n",
        "To determine how many items a set has, use the len() function."
      ]
    },
    {
      "cell_type": "code",
      "execution_count": null,
      "metadata": {
        "colab": {
          "base_uri": "https://localhost:8080/"
        },
        "id": "BHhnz3ENnkuo",
        "outputId": "e780d2ba-a783-4991-de44-0e26acb6f34f"
      },
      "outputs": [
        {
          "name": "stdout",
          "output_type": "stream",
          "text": [
            "3\n"
          ]
        }
      ],
      "source": [
        "# Get the number of items in a set:\n",
        "thisset = {\"apple\", \"banana\", \"cherry\"}\n",
        "\n",
        "print(len(thisset))"
      ]
    },
    {
      "cell_type": "markdown",
      "metadata": {
        "id": "DSmNrkTUnrq2"
      },
      "source": [
        "## **Set Items - Data Types**\n",
        "Set items can be of any data type:\n"
      ]
    },
    {
      "cell_type": "code",
      "execution_count": null,
      "metadata": {
        "id": "ErxEFYqNnxSm"
      },
      "outputs": [],
      "source": [
        "# String, int and boolean data types:\n",
        "set1 = {\"apple\", \"banana\", \"cherry\"}\n",
        "set2 = {1, 5, 7, 9, 3}\n",
        "set3 = {True, False, False}"
      ]
    },
    {
      "cell_type": "code",
      "execution_count": null,
      "metadata": {
        "colab": {
          "base_uri": "https://localhost:8080/"
        },
        "id": "gI3ysZ41oDlY",
        "outputId": "787477ff-52a0-4eba-c45b-f502f7bfb7ab"
      },
      "outputs": [
        {
          "name": "stdout",
          "output_type": "stream",
          "text": [
            "{True, 34, 40, 'abc', 'male'}\n"
          ]
        }
      ],
      "source": [
        "# A set can contain different data types:\n",
        "# A set with strings, integers and boolean values:\n",
        "set1 = {\"abc\", 34, True, 40, \"male\"}\n",
        "print(set1)"
      ]
    },
    {
      "cell_type": "markdown",
      "metadata": {
        "id": "mv09SZqjoNCm"
      },
      "source": [
        "## **type()**\n",
        "From Python's perspective, sets are defined as objects with the data type 'set':"
      ]
    },
    {
      "cell_type": "code",
      "execution_count": null,
      "metadata": {
        "colab": {
          "base_uri": "https://localhost:8080/"
        },
        "id": "1Ou3MwyaoWwG",
        "outputId": "56519f55-6189-4366-b720-afcecea92725"
      },
      "outputs": [
        {
          "name": "stdout",
          "output_type": "stream",
          "text": [
            "<class 'set'>\n"
          ]
        }
      ],
      "source": [
        "# What is the data type of a set?\n",
        "myset = {\"apple\", \"banana\", \"cherry\"}\n",
        "print(type(myset))"
      ]
    }
  ],
  "metadata": {
    "colab": {
      "provenance": []
    },
    "kernelspec": {
      "display_name": "Python 3",
      "name": "python3"
    },
    "language_info": {
      "name": "python"
    }
  },
  "nbformat": 4,
  "nbformat_minor": 0
}
