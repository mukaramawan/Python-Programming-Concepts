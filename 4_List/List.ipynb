{
  "cells": [
    {
      "cell_type": "markdown",
      "metadata": {
        "id": "PO2-KzT1fwjW"
      },
      "source": [
        "# **List**\n",
        "Lists are created using square brackets:"
      ]
    },
    {
      "cell_type": "code",
      "execution_count": null,
      "metadata": {
        "colab": {
          "base_uri": "https://localhost:8080/"
        },
        "id": "qB8pc3bdf5YE",
        "outputId": "f9f6fbeb-e631-4722-82fc-342ea5732826"
      },
      "outputs": [
        {
          "name": "stdout",
          "output_type": "stream",
          "text": [
            "['apple', 'banana', 'cherry']\n"
          ]
        }
      ],
      "source": [
        "thislist = [\"apple\", \"banana\", \"cherry\"]\n",
        "print(thislist)"
      ]
    },
    {
      "cell_type": "markdown",
      "metadata": {
        "id": "6HzogGERf8nk"
      },
      "source": [
        "# **List Items**\n",
        "List items are ordered, changeable, and allow duplicate values.\n",
        "List items are indexed, the first item has index [0], the second item has index [1] etc.\n",
        "Allow Duplicates\n"
      ]
    },
    {
      "cell_type": "code",
      "execution_count": null,
      "metadata": {
        "colab": {
          "base_uri": "https://localhost:8080/"
        },
        "id": "3Mqn_XlTgPhG",
        "outputId": "c7533aaa-2f03-4b35-de59-56a02d6f3b4a"
      },
      "outputs": [
        {
          "name": "stdout",
          "output_type": "stream",
          "text": [
            "['apple', 'banana', 'cherry', 'apple', 'cherry']\n"
          ]
        }
      ],
      "source": [
        "thislist = [\"apple\", \"banana\", \"cherry\", \"apple\", \"cherry\"]\n",
        "print(thislist)"
      ]
    },
    {
      "cell_type": "markdown",
      "metadata": {
        "id": "esEBA507gbjN"
      },
      "source": [
        "## **List Length**\n",
        "To determine how many items a list has, use the len() function:"
      ]
    },
    {
      "cell_type": "code",
      "execution_count": null,
      "metadata": {
        "colab": {
          "base_uri": "https://localhost:8080/"
        },
        "id": "qnmooo6Oaa4W",
        "outputId": "15c8df4d-2e10-4f4c-c3d0-1fbcaac4ef86"
      },
      "outputs": [
        {
          "name": "stdout",
          "output_type": "stream",
          "text": [
            "5\n"
          ]
        }
      ],
      "source": [
        "print(len(thislist))"
      ]
    },
    {
      "cell_type": "markdown",
      "metadata": {
        "id": "l9txKtQ2gke1"
      },
      "source": [
        "## **List Items - Data Types**\n",
        "List items can be of any data type:\n"
      ]
    },
    {
      "cell_type": "code",
      "execution_count": null,
      "metadata": {
        "id": "yAZLGxuJgr1N"
      },
      "outputs": [],
      "source": [
        "# String, int and boolean data types:\n",
        "list1 = [\"apple\", \"banana\", \"cherry\"]\n",
        "list2 = [1, 5, 7, 9, 3]\n",
        "list3 = [True, False, False]"
      ]
    },
    {
      "cell_type": "code",
      "execution_count": null,
      "metadata": {
        "colab": {
          "base_uri": "https://localhost:8080/"
        },
        "id": "dxOx-pt6gzSG",
        "outputId": "c17cb51f-1c46-48e1-f8e0-b1e90bd30085"
      },
      "outputs": [
        {
          "name": "stdout",
          "output_type": "stream",
          "text": [
            "['abc', 34, True, 40, 'male']\n"
          ]
        }
      ],
      "source": [
        "# A list with strings, integers and boolean values:\n",
        "list1 = [\"abc\", 34, True, 40, \"male\"]\n",
        "print(list1)"
      ]
    },
    {
      "cell_type": "markdown",
      "metadata": {
        "id": "mG3os6IePKc8"
      },
      "source": [
        "## **Access Elements**\n"
      ]
    },
    {
      "cell_type": "code",
      "execution_count": null,
      "metadata": {
        "id": "w3oq_EpePPnN"
      },
      "outputs": [],
      "source": [
        "#Access the first element of list\n",
        "print(list1[0])"
      ]
    },
    {
      "cell_type": "code",
      "execution_count": null,
      "metadata": {
        "id": "kBm6dRaUPUAm"
      },
      "outputs": [],
      "source": [
        "#Access the last element of list\n",
        "print(list1[-1])"
      ]
    },
    {
      "cell_type": "markdown",
      "metadata": {
        "id": "_olEbbC3PYLM"
      },
      "source": [
        "## **Slicing**\n",
        "It is possible to access a section of items from the list using the slicing operator :, not just a single item"
      ]
    },
    {
      "cell_type": "code",
      "execution_count": null,
      "metadata": {
        "id": "96mJDLkPPYAl"
      },
      "outputs": [],
      "source": [
        "print(list_of_integer[1:3])"
      ]
    },
    {
      "cell_type": "markdown",
      "metadata": {
        "id": "1poxhUQjQQ6M"
      },
      "source": [
        "## **Add new elements in the list**"
      ]
    },
    {
      "cell_type": "code",
      "execution_count": null,
      "metadata": {
        "id": "MK673bM9QTcn"
      },
      "outputs": [],
      "source": [
        "#Add new element in the list using append\n",
        "list_of_integer.append(6)\n",
        "print(list_of_integer)"
      ]
    },
    {
      "cell_type": "markdown",
      "metadata": {
        "id": "aHN5fZEVQWPU"
      },
      "source": [
        "## **Reversing a List**"
      ]
    },
    {
      "cell_type": "code",
      "execution_count": null,
      "metadata": {
        "id": "NO5uKCI2QZI2"
      },
      "outputs": [],
      "source": [
        "list_of_integer.reverse()\n",
        "print(list_of_integer)"
      ]
    },
    {
      "cell_type": "markdown",
      "metadata": {
        "id": "BV8HxMYIQpJs"
      },
      "source": [
        "## **Removing Elements from the List**\n",
        "Elements can be removed from the List by using the built-in remove() function but an Error arises if the element doesn't exist in the list. Remove() method only removes one element at a time, to remove a range of elements, the iterator is used. The remove() method removes the specified item."
      ]
    },
    {
      "cell_type": "code",
      "execution_count": null,
      "metadata": {
        "id": "6hDcBm_NQt9E"
      },
      "outputs": [],
      "source": [
        "print(\"Initial List: \")\n",
        "print(list_of_integer)\n",
        "  \n",
        "# Removing elements from List\n",
        "# using Remove() method\n",
        "list_of_integer.remove(5)\n",
        "print(\"\\nList after Removal of one element: \")\n",
        "print(list_of_integer)"
      ]
    }
  ],
  "metadata": {
    "colab": {
      "provenance": []
    },
    "kernelspec": {
      "display_name": "Python 3",
      "name": "python3"
    },
    "language_info": {
      "name": "python"
    }
  },
  "nbformat": 4,
  "nbformat_minor": 0
}
